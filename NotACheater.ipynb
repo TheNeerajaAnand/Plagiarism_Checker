{
 "cells": [
  {
   "cell_type": "markdown",
   "id": "82d0cd39",
   "metadata": {},
   "source": [
    "## Intra-Corpal Plagiarism Checker using Cosine Similarity\n",
    "\n",
    "Devika H AM.EN.U4CSE20020 <br>\n",
    "Megha Suresh AM.EN.U4CSE20043 <br>\n",
    "R Neeraja Anand AM.EN.U4CSE20059 <br>"
   ]
  },
  {
   "cell_type": "markdown",
   "id": "502ddb4b",
   "metadata": {},
   "source": [
    "Step 1: Import modules to provide OS functionalities, to convert text to vectors, and to detect similarity respectively."
   ]
  },
  {
   "cell_type": "code",
   "execution_count": 1,
   "id": "0133be12",
   "metadata": {},
   "outputs": [],
   "source": [
    "import os\n",
    "from sklearn.feature_extraction.text import TfidfVectorizer\n",
    "from sklearn.metrics.pairwise import cosine_similarity\n",
    "#for dialog box to upload folder\n",
    "import tkinter as tk\n",
    "from tkinter import filedialog"
   ]
  },
  {
   "cell_type": "markdown",
   "id": "a8b08b1d",
   "metadata": {},
   "source": [
    "Step 2: Loading files to compare.<br>\n",
    "This step looks for all notepad files in your given directory path, opens the text files to be open for comparison"
   ]
  },
  {
   "cell_type": "code",
   "execution_count": 2,
   "id": "7c1d7ba3",
   "metadata": {},
   "outputs": [],
   "source": [
    "#Code for a GUI to upload folder\n",
    "def open_directory():\n",
    "    root = tk.Tk()\n",
    "    root.title(\"Directory Selection\")\n",
    "    select_button = tk.Button(root, text=\"Select Directory\", command=open_directory)\n",
    "    select_button.pack(pady=20)\n",
    "    path = filedialog.askdirectory()\n",
    "    root.mainloop()\n",
    "    return path"
   ]
  },
  {
   "cell_type": "code",
   "execution_count": 3,
   "id": "1defccaa",
   "metadata": {},
   "outputs": [
    {
     "name": "stdout",
     "output_type": "stream",
     "text": [
      "['An apple a day keeps the doctor away\\n', \"I eat pineapples so that I don't stay sick\", 'My doctor told me to ea pineapples every day']\n"
     ]
    }
   ],
   "source": [
    "path = open_directory()\n",
    "student_files = [doc for doc in os.listdir(path) if doc.endswith('.txt')]\n",
    "student_notes = [open(_file,encoding='utf-8').read() for _file in student_files]\n",
    "print(student_notes)"
   ]
  },
  {
   "cell_type": "markdown",
   "id": "7087c07a",
   "metadata": {},
   "source": [
    "Step 3: Converts the text to an array format"
   ]
  },
  {
   "cell_type": "code",
   "execution_count": 4,
   "id": "e137dba1",
   "metadata": {},
   "outputs": [],
   "source": [
    "def vectorize(text):\n",
    "    return TfidfVectorizer().fit_transform(text).toarray()\n"
   ]
  },
  {
   "cell_type": "markdown",
   "id": "31cdc417",
   "metadata": {},
   "source": [
    "Step 4: Check similarity between documents"
   ]
  },
  {
   "cell_type": "code",
   "execution_count": 5,
   "id": "20a501cb",
   "metadata": {},
   "outputs": [],
   "source": [
    "def similarity(doc1,doc2):\n",
    "    return cosine_similarity([doc1,doc2])\n"
   ]
  },
  {
   "cell_type": "markdown",
   "id": "0bd54fe2",
   "metadata": {},
   "source": [
    "Step 5: Creates an empty set of documents that will store values of similarity between documents. Also compressing the files to be compared"
   ]
  },
  {
   "cell_type": "code",
   "execution_count": 6,
   "id": "f5d9966d",
   "metadata": {},
   "outputs": [],
   "source": [
    "vectors = vectorize(student_notes)\n",
    "s_vectors = list(zip(student_files, vectors))\n",
    "plagiarism_results = set()"
   ]
  },
  {
   "cell_type": "markdown",
   "id": "c2575f29",
   "metadata": {},
   "source": [
    "Step 6: Main function which runs on nested loops, and compares each document in theselected folder.\n",
    "#### Points to Note: \n",
    "1. Why did we use global s_vectors?<br>\n",
    "It is beccause we declared s_vectors in outside the function and not taking it as a parameter.<br>\n",
    "2. Why did we create a copy of the initial vector set?<br>\n",
    "Since we are making changes to the vector values through each iteration, we  use copy function to always work with the original.<br>\n",
    "3. Why do we reference indices within the square brackets?<br>\n",
    "Our plagiarism_results set stores vluesas (doc1,doc2,similarity) foemat. Hence to access doc1 name we use 0, to access doc2 name we use 1, and to access similarity scores, we use the value 2.\n"
   ]
  },
  {
   "cell_type": "code",
   "execution_count": 8,
   "id": "18e2112b",
   "metadata": {},
   "outputs": [],
   "source": [
    "def check_plagiarism():\n",
    "    global s_vectors, sim_scores\n",
    "    for student_a, text_vector_a in s_vectors:\n",
    "        new_vectors = s_vectors.copy()\n",
    "        current_index = new_vectors.index((student_a, text_vector_a))\n",
    "        del new_vectors[current_index]\n",
    "        for student_b, text_vector_b in new_vectors:\n",
    "            sim_scores = similarity(text_vector_a,text_vector_b)[0][1]\n",
    "            student_pair = sorted((student_a, student_b))\n",
    "            print(sim_scores)\n",
    "            print(student_pair)\n",
    "            score = (student_pair[0], student_pair[1], sim_scores)\n",
    "            plagiarism_results.add(score)\n",
    "    return plagiarism_results\n",
    "\n",
    "                                  "
   ]
  },
  {
   "cell_type": "markdown",
   "id": "8d76ac44",
   "metadata": {},
   "source": [
    "Step 7: Call the main function."
   ]
  },
  {
   "cell_type": "code",
   "execution_count": 9,
   "id": "66af2eb5",
   "metadata": {},
   "outputs": [
    {
     "name": "stdout",
     "output_type": "stream",
     "text": [
      "0.0\n",
      "['text1.txt', 'text2.txt']\n",
      "0.16762726476514742\n",
      "['text1.txt', 'text3.txt']\n",
      "0.0\n",
      "['text1.txt', 'text2.txt']\n",
      "0.08108341409705117\n",
      "['text2.txt', 'text3.txt']\n",
      "0.16762726476514742\n",
      "['text1.txt', 'text3.txt']\n",
      "0.08108341409705117\n",
      "['text2.txt', 'text3.txt']\n"
     ]
    }
   ],
   "source": [
    "result = check_plagiarism()\n"
   ]
  },
  {
   "cell_type": "markdown",
   "id": "3b269e11",
   "metadata": {},
   "source": [
    "Step 8: Compare the document similarity with a given threshold, in our case 10 percent, and if the similarity score is greater than or equal to the threshold, we declare document as plagiarised."
   ]
  },
  {
   "cell_type": "code",
   "execution_count": 10,
   "id": "c6cbda00",
   "metadata": {},
   "outputs": [
    {
     "name": "stdout",
     "output_type": "stream",
     "text": [
      "Similarity between different documents: \n",
      "********************************************\n",
      "The documents text1.txt  and  text3.txt  are copied from eachother because similarity is 16.762726476514743 % and above the threshold of 10 %\n"
     ]
    }
   ],
   "source": [
    "print(\"Similarity between different documents: \")\n",
    "threshold = 0.10\n",
    "print (\"********************************************\")\n",
    "for data in result:\n",
    "    if (data[2] >= threshold):\n",
    "        print(\"The documents\", data[0] , \" and \", \n",
    "              data[1] ,\" are copied from eachother because similarity is\",data[2]*100, \"% and above the threshold of 10 %\")"
   ]
  },
  {
   "cell_type": "code",
   "execution_count": 11,
   "id": "fa3a33ad",
   "metadata": {},
   "outputs": [
    {
     "name": "stdout",
     "output_type": "stream",
     "text": [
      "*******************************THE END*************************************\n"
     ]
    }
   ],
   "source": [
    "print(\"*******************************THE END*************************************\")"
   ]
  },
  {
   "cell_type": "code",
   "execution_count": null,
   "id": "f289d052",
   "metadata": {},
   "outputs": [],
   "source": []
  }
 ],
 "metadata": {
  "kernelspec": {
   "display_name": "Python 3 (ipykernel)",
   "language": "python",
   "name": "python3"
  },
  "language_info": {
   "codemirror_mode": {
    "name": "ipython",
    "version": 3
   },
   "file_extension": ".py",
   "mimetype": "text/x-python",
   "name": "python",
   "nbconvert_exporter": "python",
   "pygments_lexer": "ipython3",
   "version": "3.9.7"
  }
 },
 "nbformat": 4,
 "nbformat_minor": 5
}
